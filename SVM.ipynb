{
 "cells": [
  {
   "cell_type": "code",
   "execution_count": 1,
   "metadata": {},
   "outputs": [],
   "source": [
    "from IPython.core.interactiveshell import InteractiveShell\n",
    "InteractiveShell.ast_node_interactivity = 'all'\n",
    "import pandas as pd\n",
    "import numpy as np\n",
    "from itertools import cycle\n",
    "import matplotlib.pyplot as plt\n",
    "from sklearn.preprocessing import label_binarize\n",
    "from sklearn.model_selection import train_test_split\n",
    "from sklearn.metrics import accuracy_score,recall_score,auc,roc_curve\n",
    "import sklearn.svm as svm\n",
    "from sklearn.multiclass import OneVsOneClassifier\n",
    "from scipy import interp"
   ]
  },
  {
   "cell_type": "code",
   "execution_count": 2,
   "metadata": {},
   "outputs": [],
   "source": [
    "data=pd.read_csv(\"C:/Users/cuiyao/毕业设计SVM/SVM_GSE35809.csv\")\n",
    "X=data.iloc[:,1:12986]  #  分割样本特征\n",
    "Y=data.iloc[:,12986:12987]  #  分割样本标签\n",
    "y=np.ravel(Y)  \n"
   ]
  },
  {
   "cell_type": "code",
   "execution_count": 19,
   "metadata": {},
   "outputs": [],
   "source": [
    "##  设计模型----线性核\n",
    "random_state = np.random.RandomState(0)\n",
    "x_train,x_test,y_train,y_test=train_test_split(X,y,test_size=0.4,random_state=0)  #  分割训练集和测试集，测试集占0.2\n",
    "model=svm.SVC(kernel=\"linear\",probability=True,decision_function_shape=\"ovo\")  #  定义模型，线性核函数，ovo分类方法"
   ]
  },
  {
   "cell_type": "code",
   "execution_count": 49,
   "metadata": {},
   "outputs": [],
   "source": [
    "##  设计模型----多项式核\n",
    "random_state = np.random.RandomState(0)\n",
    "x_train,x_test,y_train,y_test=train_test_split(X,y,test_size=0.4,random_state=0)  #  分割训练集和测试集，测试集占0.2\n",
    "model=svm.SVC(kernel=\"poly\",degree=3,probability=True,decision_function_shape=\"ovo\")"
   ]
  },
  {
   "cell_type": "code",
   "execution_count": 104,
   "metadata": {},
   "outputs": [],
   "source": [
    "##  设计模型----RBF核\n",
    "random_state = np.random.RandomState(4)\n",
    "x_train,x_test,y_train,y_test=train_test_split(X,y,test_size=0.4,random_state=4)  #  分割训练集和测试集，测试集占0.2\n",
    "model=svm.SVC(kernel=\"rbf\",gamma='auto',probability=True,decision_function_shape=\"ovo\")"
   ]
  },
  {
   "cell_type": "code",
   "execution_count": 105,
   "metadata": {
    "collapsed": true
   },
   "outputs": [
    {
     "data": {
      "text/plain": [
       "SVC(decision_function_shape='ovo', gamma='auto', probability=True)"
      ]
     },
     "execution_count": 105,
     "metadata": {},
     "output_type": "execute_result"
    },
    {
     "name": "stdout",
     "output_type": "stream",
     "text": [
      "预测准确率： 0.9642857142857143\n",
      "预测的标签： [2 2 1 0 0 0 0 1 2 1 0 0 2 0 0 0 0 0 0 0 0 1 2 0 1 2 2 1]\n",
      "真实的标签： [2 2 1 0 0 0 0 1 2 2 0 0 2 0 0 0 0 0 0 0 0 1 2 0 1 2 2 1]\n",
      "测试样本在每一类的得分： [[-0.06800543 -0.50454901 -0.50377675]\n",
      " [-0.03561081 -1.02449051 -1.05441624]\n",
      " [-0.35206195  0.20929183  0.55821539]\n",
      " [ 1.1250964   1.23820432  0.17197379]\n",
      " [ 0.13850959  0.35452487  0.31483258]\n",
      " [ 0.22951197  0.97234987  0.88461623]\n",
      " [ 0.49384135  0.23884869 -0.29669289]\n",
      " [-0.17927773  0.80630989  1.08690963]\n",
      " [-0.55718155 -0.84132143 -0.34710763]\n",
      " [-0.90498606 -0.55411366  0.34247954]\n",
      " [ 0.68711632  1.20143199  0.69362685]\n",
      " [ 1.11726036  1.31433466  0.12575238]\n",
      " [ 0.14075788 -0.65568848 -0.81165976]\n",
      " [ 0.58879963  0.64666508  0.07559287]\n",
      " [ 0.86674265  0.61038876 -0.28703427]\n",
      " [ 1.12687014  0.83326915 -0.37923866]\n",
      " [ 0.91450869  0.82139663  0.01784646]\n",
      " [ 0.11633237  0.2972321   0.19401147]\n",
      " [ 0.84014198  0.50806553 -0.33803122]\n",
      " [ 0.92247632  0.73988649 -0.1848504 ]\n",
      " [ 0.16883961  0.71960545  0.59385377]\n",
      " [-0.45168412  0.33762563  0.90109726]\n",
      " [-0.60810252 -1.06991943 -0.60410049]\n",
      " [ 0.45555219  0.99204277  0.59761827]\n",
      " [-0.66623937  0.21185503  0.95942648]\n",
      " [ 0.4327419  -0.82976676 -1.3227209 ]\n",
      " [-0.35306824 -0.640771   -0.39036878]\n",
      " [-0.31277892  0.48245489  0.71766643]]\n",
      "测试样本属于每一类的概率： [[0.09890407 0.14266478 0.75843115]\n",
      " [0.01976948 0.02768942 0.9525411 ]\n",
      " [0.20731965 0.68342435 0.109256  ]\n",
      " [0.94447632 0.03870125 0.01682244]\n",
      " [0.47223345 0.37833279 0.14943376]\n",
      " [0.61573421 0.36296039 0.0213054 ]\n",
      " [0.54948883 0.13666204 0.31384913]\n",
      " [0.33495322 0.6450621  0.01998468]\n",
      " [0.03362606 0.2353856  0.73098834]\n",
      " [0.0360045  0.7390417  0.2249538 ]\n",
      " [0.85293998 0.13318371 0.01387631]\n",
      " [0.9462544  0.03864574 0.01509986]\n",
      " [0.06679511 0.05668092 0.87652397]\n",
      " [0.74667188 0.15181506 0.10151306]\n",
      " [0.80947177 0.06625534 0.12427289]\n",
      " [0.90538986 0.03152223 0.06308791]\n",
      " [0.86852296 0.07039537 0.06108166]\n",
      " [0.44137073 0.3673586  0.19127067]\n",
      " [0.76462406 0.06892418 0.16645176]\n",
      " [0.85464238 0.061695   0.08366262]\n",
      " [0.55678016 0.39012924 0.0530906 ]\n",
      " [0.17803182 0.77379168 0.0481765 ]\n",
      " [0.0159324  0.11774029 0.8663273 ]\n",
      " [0.74457273 0.22693004 0.02849724]\n",
      " [0.10240902 0.8562391  0.04135187]\n",
      " [0.03752862 0.0119541  0.95051727]\n",
      " [0.06045426 0.20449059 0.73505515]\n",
      " [0.24686832 0.69464793 0.05848375]]\n"
     ]
    }
   ],
   "source": [
    "##  训练模型\n",
    "model.fit(x_train,y_train) #  使用训练集训练\n",
    "acu_test=model.score(x_test,y_test)  #  测试集分类准确率\n",
    "print(\"预测准确率：\",acu_test)  # 准确率\n",
    "y_pred=model.predict(x_test)  #  预测的标签\n",
    "print(\"预测的标签：\",y_pred)\n",
    "print(\"真实的标签：\",y_test)\n",
    "y_score=model.decision_function(x_test)  #  得到每对分类器的输出\n",
    "print(\"测试样本在每一类的得分：\",y_score)\n",
    "proba=model.predict_proba(x_test)  #  属于每一类的概率\n",
    "print(\"测试样本属于每一类的概率：\",proba)"
   ]
  },
  {
   "cell_type": "code",
   "execution_count": 106,
   "metadata": {
    "scrolled": true
   },
   "outputs": [],
   "source": [
    "## ROC值\n",
    "fpr=dict()\n",
    "tpr=dict()\n",
    "roc_auc=dict()\n",
    "y_test_label=label_binarize(y_test, classes=[0, 1, 2])\n",
    "y_pred_label=label_binarize(y_pred, classes=[0, 1, 2])\n",
    "for i in range(3):\n",
    "    fpr[i],tpr[i],_=roc_curve(y_test_label[:,i],proba[:,i])\n",
    "    roc_auc[i]=auc(fpr[i],tpr[i])"
   ]
  },
  {
   "cell_type": "code",
   "execution_count": 107,
   "metadata": {
    "collapsed": true
   },
   "outputs": [
    {
     "name": "stdout",
     "output_type": "stream",
     "text": [
      "fpr： {0: array([0., 0., 0., 1.]), 1: array([0.        , 0.        , 0.        , 0.04347826, 0.04347826,\n",
      "       1.        ]), 2: array([0.  , 0.  , 0.  , 0.05, 0.05, 1.  ])}\n",
      "tpr： {0: array([0.        , 0.06666667, 1.        , 1.        ]), 1: array([0. , 0.2, 0.4, 0.4, 1. , 1. ]), 2: array([0.   , 0.125, 0.875, 0.875, 1.   , 1.   ])}\n",
      "roc_auc： {0: 1.0, 1: 0.9739130434782609, 2: 0.9937499999999999}\n"
     ]
    }
   ],
   "source": [
    "# y_test_label\n",
    "print(\"fpr：\",fpr)\n",
    "print(\"tpr：\",tpr)\n",
    "print(\"roc_auc：\",roc_auc)"
   ]
  },
  {
   "cell_type": "code",
   "execution_count": 108,
   "metadata": {
    "scrolled": true
   },
   "outputs": [
    {
     "name": "stderr",
     "output_type": "stream",
     "text": [
      "C:\\Users\\cuiyao\\Anaconda3\\lib\\site-packages\\ipykernel_launcher.py:7: DeprecationWarning: scipy.interp is deprecated and will be removed in SciPy 2.0.0, use numpy.interp instead\n",
      "  import sys\n"
     ]
    },
    {
     "data": {
      "text/plain": [
       "<Figure size 432x288 with 0 Axes>"
      ]
     },
     "execution_count": 108,
     "metadata": {},
     "output_type": "execute_result"
    },
    {
     "data": {
      "text/plain": [
       "[<matplotlib.lines.Line2D at 0x186d9c54248>]"
      ]
     },
     "execution_count": 108,
     "metadata": {},
     "output_type": "execute_result"
    },
    {
     "data": {
      "text/plain": [
       "[<matplotlib.lines.Line2D at 0x186d908e648>]"
      ]
     },
     "execution_count": 108,
     "metadata": {},
     "output_type": "execute_result"
    },
    {
     "data": {
      "text/plain": [
       "[<matplotlib.lines.Line2D at 0x186d9c5bfc8>]"
      ]
     },
     "execution_count": 108,
     "metadata": {},
     "output_type": "execute_result"
    },
    {
     "data": {
      "text/plain": [
       "[<matplotlib.lines.Line2D at 0x186d9101388>]"
      ]
     },
     "execution_count": 108,
     "metadata": {},
     "output_type": "execute_result"
    },
    {
     "data": {
      "text/plain": [
       "(0.0, 1.0)"
      ]
     },
     "execution_count": 108,
     "metadata": {},
     "output_type": "execute_result"
    },
    {
     "data": {
      "text/plain": [
       "(0.0, 1.05)"
      ]
     },
     "execution_count": 108,
     "metadata": {},
     "output_type": "execute_result"
    },
    {
     "data": {
      "text/plain": [
       "Text(0.5, 0, 'False Positive Rate')"
      ]
     },
     "execution_count": 108,
     "metadata": {},
     "output_type": "execute_result"
    },
    {
     "data": {
      "text/plain": [
       "Text(0, 0.5, 'True Positive Rate')"
      ]
     },
     "execution_count": 108,
     "metadata": {},
     "output_type": "execute_result"
    },
    {
     "data": {
      "text/plain": [
       "Text(0.5, 1.0, 'Receiver operating characteristic to multi-class')"
      ]
     },
     "execution_count": 108,
     "metadata": {},
     "output_type": "execute_result"
    },
    {
     "data": {
      "text/plain": [
       "<matplotlib.legend.Legend at 0x186d9264c88>"
      ]
     },
     "execution_count": 108,
     "metadata": {},
     "output_type": "execute_result"
    },
    {
     "data": {
      "image/png": "[encoded data removed]",
      "text/plain": [
       "<Figure size 432x288 with 1 Axes>"
      ]
     },
     "metadata": {
      "needs_background": "light"
     },
     "output_type": "display_data"
    }
   ],
   "source": [
    "# 绘制ROC曲线\n",
    "# fpr[\"micro\"], tpr[\"micro\"], _ = roc_curve(y_test_label.ravel(), y_score.ravel())\n",
    "# roc_auc[\"micro\"] = auc(fpr[\"micro\"], tpr[\"micro\"])\n",
    "all_fpr = np.unique(np.concatenate([fpr[i] for i in range(3)]))\n",
    "# Then interpolate all ROC curves at this points\n",
    "mean_tpr = np.zeros_like(all_fpr)\n",
    "for i in range(3):\n",
    "    mean_tpr += interp(all_fpr, fpr[i], tpr[i])\n",
    "# Finally average it and compute AUC\n",
    "mean_tpr /= 3\n",
    "fpr[\"macro\"] = all_fpr\n",
    "tpr[\"macro\"] = mean_tpr\n",
    "roc_auc[\"macro\"] = auc(fpr[\"macro\"], tpr[\"macro\"])\n",
    "\n",
    "# Plot all ROC curves\n",
    "lw=2\n",
    "plt.figure()\n",
    "# plt.plot(fpr[\"micro\"], tpr[\"micro\"],\n",
    "#          label='micro-average ROC curve (area = {0:0.2f})'\n",
    "#                ''.format(roc_auc[\"micro\"]),\n",
    "#          color='deeppink', linestyle=':', linewidth=4)\n",
    "\n",
    "# plt.plot(fpr[\"macro\"], tpr[\"macro\"],\n",
    "#          label='macro-average ROC curve (area = {0:0.2f})'\n",
    "#                ''.format(roc_auc[\"macro\"]),\n",
    "#          color='navy', linestyle=':', linewidth=4)\n",
    "\n",
    "colors = cycle(['aqua', 'darkorange', 'cornflowerblue'])\n",
    "for i, color in zip(range(3), colors):\n",
    "    plt.plot(fpr[i], tpr[i], color=color, lw=lw,\n",
    "             label='ROC curve of class {0} (area = {1:0.2f})'\n",
    "             ''.format(i, roc_auc[i]))\n",
    "\n",
    "plt.plot([0, 1], [0, 1], 'k--', lw=lw)\n",
    "plt.xlim([0.0, 1.0])\n",
    "plt.ylim([0.0, 1.05])\n",
    "plt.xlabel('False Positive Rate')\n",
    "plt.ylabel('True Positive Rate')\n",
    "plt.title('Receiver operating characteristic to multi-class')\n",
    "plt.legend(loc=\"lower right\")\n",
    "plt.savefig('AUC_rbf_0.4.svg',dpi=600)\n",
    "plt.show()"
   ]
  },
  {
   "cell_type": "code",
   "execution_count": 28,
   "metadata": {
    "collapsed": true
   },
   "outputs": [
    {
     "data": {
      "text/html": [
       "<div>\n",
       "<style scoped>\n",
       "    .dataframe tbody tr th:only-of-type {\n",
       "        vertical-align: middle;\n",
       "    }\n",
       "\n",
       "    .dataframe tbody tr th {\n",
       "        vertical-align: top;\n",
       "    }\n",
       "\n",
       "    .dataframe thead th {\n",
       "        text-align: right;\n",
       "    }\n",
       "</style>\n",
       "<table border=\"1\" class=\"dataframe\">\n",
       "  <thead>\n",
       "    <tr style=\"text-align: right;\">\n",
       "      <th></th>\n",
       "      <th>kernel</th>\n",
       "      <th>acu_test</th>\n",
       "    </tr>\n",
       "  </thead>\n",
       "  <tbody>\n",
       "    <tr>\n",
       "      <td>0</td>\n",
       "      <td>poly</td>\n",
       "      <td>0.909091</td>\n",
       "    </tr>\n",
       "    <tr>\n",
       "      <td>1</td>\n",
       "      <td>sigmoid</td>\n",
       "      <td>0.454545</td>\n",
       "    </tr>\n",
       "    <tr>\n",
       "      <td>2</td>\n",
       "      <td>linear</td>\n",
       "      <td>0.909091</td>\n",
       "    </tr>\n",
       "    <tr>\n",
       "      <td>3</td>\n",
       "      <td>rbf</td>\n",
       "      <td>0.909091</td>\n",
       "    </tr>\n",
       "  </tbody>\n",
       "</table>\n",
       "</div>"
      ],
      "text/plain": [
       "    kernel  acu_test\n",
       "0     poly  0.909091\n",
       "1  sigmoid  0.454545\n",
       "2   linear  0.909091\n",
       "3      rbf  0.909091"
      ]
     },
     "execution_count": 28,
     "metadata": {},
     "output_type": "execute_result"
    }
   ],
   "source": [
    "#  不同核函数\n",
    "def svc(kernel):\n",
    "    return svm.SVC(kernel=kernel,decision_function_shape=\"ovo\")\n",
    "\n",
    "def modelist():\n",
    "    modelist=[]\n",
    "    kernelist={\"linear\",\"poly\",\"rbf\",\"sigmoid\"}\n",
    "    for each in kernelist:\n",
    "        modelist.append(svc(each))\n",
    "    return modelist\n",
    "\n",
    "def svc_model(model):\n",
    "    model.fit(x_train,y_train)\n",
    "    acu_test=model.score(x_test,y_test)\n",
    "    y_pred=model.predict(x_test)\n",
    "    return acu_test\n",
    "\n",
    "def run_svc_model(modelist):\n",
    "    result={\"kernel\":[],\"acu_test\":[]}\n",
    "    for model in modelist:\n",
    "        acu_test=svc_model(model)\n",
    "        try:\n",
    "            result[\"kernel\"].append(model.kernel)\n",
    "        except:\n",
    "            result[\"kernel\"].append(None)\n",
    "        result[\"acu_test\"].append(acu_test)\n",
    "    return pd.DataFrame(result)\n",
    "\n",
    "run_svc_model(modelist())"
   ]
  },
  {
   "cell_type": "code",
   "execution_count": 29,
   "metadata": {
    "collapsed": true
   },
   "outputs": [
    {
     "data": {
      "text/html": [
       "<div>\n",
       "<style scoped>\n",
       "    .dataframe tbody tr th:only-of-type {\n",
       "        vertical-align: middle;\n",
       "    }\n",
       "\n",
       "    .dataframe tbody tr th {\n",
       "        vertical-align: top;\n",
       "    }\n",
       "\n",
       "    .dataframe thead th {\n",
       "        text-align: right;\n",
       "    }\n",
       "</style>\n",
       "<table border=\"1\" class=\"dataframe\">\n",
       "  <thead>\n",
       "    <tr style=\"text-align: right;\">\n",
       "      <th></th>\n",
       "      <th>C</th>\n",
       "      <th>linear_acu_test</th>\n",
       "      <th>poly_acu_test</th>\n",
       "      <th>rbf_acu_test</th>\n",
       "    </tr>\n",
       "  </thead>\n",
       "  <tbody>\n",
       "    <tr>\n",
       "      <td>0</td>\n",
       "      <td>10</td>\n",
       "      <td>0.909091</td>\n",
       "      <td>0.909091</td>\n",
       "      <td>0.909091</td>\n",
       "    </tr>\n",
       "    <tr>\n",
       "      <td>1</td>\n",
       "      <td>20</td>\n",
       "      <td>0.909091</td>\n",
       "      <td>0.909091</td>\n",
       "      <td>0.909091</td>\n",
       "    </tr>\n",
       "    <tr>\n",
       "      <td>2</td>\n",
       "      <td>30</td>\n",
       "      <td>0.909091</td>\n",
       "      <td>0.909091</td>\n",
       "      <td>0.909091</td>\n",
       "    </tr>\n",
       "    <tr>\n",
       "      <td>3</td>\n",
       "      <td>40</td>\n",
       "      <td>0.909091</td>\n",
       "      <td>0.909091</td>\n",
       "      <td>0.909091</td>\n",
       "    </tr>\n",
       "    <tr>\n",
       "      <td>4</td>\n",
       "      <td>50</td>\n",
       "      <td>0.909091</td>\n",
       "      <td>0.909091</td>\n",
       "      <td>0.909091</td>\n",
       "    </tr>\n",
       "    <tr>\n",
       "      <td>5</td>\n",
       "      <td>60</td>\n",
       "      <td>0.909091</td>\n",
       "      <td>0.909091</td>\n",
       "      <td>0.909091</td>\n",
       "    </tr>\n",
       "    <tr>\n",
       "      <td>6</td>\n",
       "      <td>70</td>\n",
       "      <td>0.909091</td>\n",
       "      <td>0.909091</td>\n",
       "      <td>0.909091</td>\n",
       "    </tr>\n",
       "    <tr>\n",
       "      <td>7</td>\n",
       "      <td>80</td>\n",
       "      <td>0.909091</td>\n",
       "      <td>0.909091</td>\n",
       "      <td>0.909091</td>\n",
       "    </tr>\n",
       "    <tr>\n",
       "      <td>8</td>\n",
       "      <td>90</td>\n",
       "      <td>0.909091</td>\n",
       "      <td>0.909091</td>\n",
       "      <td>0.909091</td>\n",
       "    </tr>\n",
       "    <tr>\n",
       "      <td>9</td>\n",
       "      <td>100</td>\n",
       "      <td>0.909091</td>\n",
       "      <td>0.909091</td>\n",
       "      <td>0.909091</td>\n",
       "    </tr>\n",
       "  </tbody>\n",
       "</table>\n",
       "</div>"
      ],
      "text/plain": [
       "     C  linear_acu_test  poly_acu_test  rbf_acu_test\n",
       "0   10         0.909091       0.909091      0.909091\n",
       "1   20         0.909091       0.909091      0.909091\n",
       "2   30         0.909091       0.909091      0.909091\n",
       "3   40         0.909091       0.909091      0.909091\n",
       "4   50         0.909091       0.909091      0.909091\n",
       "5   60         0.909091       0.909091      0.909091\n",
       "6   70         0.909091       0.909091      0.909091\n",
       "7   80         0.909091       0.909091      0.909091\n",
       "8   90         0.909091       0.909091      0.909091\n",
       "9  100         0.909091       0.909091      0.909091"
      ]
     },
     "execution_count": 29,
     "metadata": {},
     "output_type": "execute_result"
    }
   ],
   "source": [
    "#  优化SVC的惩罚系数C\n",
    "def test_c():\n",
    "    result={\"C\":[],\"linear_acu_test\":[],\n",
    "            \"poly_acu_test\":[],\n",
    "            \"rbf_acu_test\":[]}\n",
    "    for c in range(10,101,10):\n",
    "        model=svm.SVC(kernel=\"linear\",C=c,decision_function_shape=\"ovo\")\n",
    "        acu_test=svc_model(model)\n",
    "        result[\"C\"].append(c)\n",
    "        result[\"linear_acu_test\"].append(acu_test)\n",
    "    for c in range(10,101,10):\n",
    "        model=svm.SVC(kernel=\"rbf\",C=c,decision_function_shape=\"ovo\")\n",
    "        acu_test=svc_model(model)\n",
    "        result[\"rbf_acu_test\"].append(acu_test)\n",
    "    for c in range(10,101,10):\n",
    "        model=svm.SVC(kernel=\"poly\",C=c,decision_function_shape=\"ovo\")\n",
    "        acu_test=svc_model(model)\n",
    "        result[\"poly_acu_test\"].append(acu_test)\n",
    "    df=pd.DataFrame(result)\n",
    "    return df\n",
    "test_c()"
   ]
  }
 ],
 "metadata": {
  "kernelspec": {
   "display_name": "Python 3",
   "language": "python",
   "name": "python3"
  },
  "language_info": {
   "codemirror_mode": {
    "name": "ipython",
    "version": 3
   },
   "file_extension": ".py",
   "mimetype": "text/x-python",
   "name": "python",
   "nbconvert_exporter": "python",
   "pygments_lexer": "ipython3",
   "version": "3.7.4"
  }
 },
 "nbformat": 4,
 "nbformat_minor": 2
}
